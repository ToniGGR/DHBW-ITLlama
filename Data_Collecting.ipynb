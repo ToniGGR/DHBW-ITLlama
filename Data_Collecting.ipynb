{
 "cells": [
  {
   "cell_type": "markdown",
   "metadata": {},
   "source": [
    "# Imports"
   ]
  },
  {
   "cell_type": "code",
   "execution_count": 156,
   "metadata": {},
   "outputs": [],
   "source": [
    "import pandas as pd\n",
    "from urllib.request import urlopen\n",
    "import requests\n",
    "from bs4 import BeautifulSoup as bs\n",
    "import re"
   ]
  },
  {
   "cell_type": "code",
   "execution_count": 3,
   "metadata": {},
   "outputs": [
    {
     "name": "stderr",
     "output_type": "stream",
     "text": [
      "/home/anton/Apps/miniconda3/envs/envcb_one/lib/python3.11/site-packages/urllib3/connectionpool.py:1043: InsecureRequestWarning: Unverified HTTPS request is being made to host 'its-infowiki.dhbw-ravensburg.de'. Adding certificate verification is strongly advised. See: https://urllib3.readthedocs.io/en/1.26.x/advanced-usage.html#ssl-warnings\n",
      "  warnings.warn(\n"
     ]
    },
    {
     "name": "stdout",
     "output_type": "stream",
     "text": [
      "<!DOCTYPE html>\n",
      "<html class=\"client-nojs\" dir=\"ltr\" lang=\"de\">\n",
      " <head>\n",
      "  <meta charset=\"utf-8\"/>\n",
      "  <title>\n",
      "   Infoseite für Studenten der DHBW Ravensburg – ITS-Infowiki\n",
      "  </title>\n",
      "  <script>\n",
      "   document.documentElement.className=\"client-js\";RLCONF={\"wgBreakFrames\":false,\"wgSeparatorTransformTable\":[\",\\t.\",\".\\t,\"],\"wgDigitTransformTable\":[\"\",\"\"],\"wgDefaultDateFormat\":\"dmy\",\"wgMonthNames\":[\"\",\"Januar\",\"Februar\",\"März\",\"April\",\"Mai\",\"Juni\",\"Juli\",\"August\",\"September\",\"Oktober\",\"November\",\"Dezember\"],\"wgRequestId\":\"bb94559c405516540fed304f\",\"wgCSPNonce\":false,\"wgCanonicalNamespace\":\"\",\"wgCanonicalSpecialPageName\":false,\"wgNamespaceNumber\":0,\"wgPageName\":\"Infoseite_für_Studenten_der_DHBW_Ravensburg\",\"wgTitle\":\"Infoseite für Studenten der DHBW Ravensburg\",\"wgCurRevisionId\":2390,\"wgRevisionId\":2390,\"wgArticleId\":144,\"wgIsArticle\":true,\"wgIsRedirect\":false,\"wgAction\":\"view\",\"wgUserName\":null,\"wgUserGroups\":[\"*\"],\"wgCategories\":[],\"wgPageContentLanguage\":\"de\",\"wgPageContentModel\":\"wikitext\",\"wgRelevantPageName\":\"Infoseite_für_Studenten_der_DHBW_Ravensburg\",\"wgRelevantArticleId\":144,\"wgIsProbablyEditable\":false,\"wgRelevantPageIsProbablyEditable\":false,\"wgRestrictionEdit\":[],\n",
      "\"wgRestrictionMove\":[],\"wgVisualEditor\":{\"pageLanguageCode\":\"de\",\"pageLanguageDir\":\"ltr\",\"pageVariantFallbacks\":\"de\"},\"wgVector2022PreviewPages\":[],\"wgEditSubmitButtonLabelPublish\":false};RLSTATE={\"site.styles\":\"ready\",\"user.styles\":\"ready\",\"user\":\"ready\",\"user.options\":\"loading\",\"skins.vector.styles.legacy\":\"ready\",\"ext.visualEditor.desktopArticleTarget.noscript\":\"ready\"};RLPAGEMODULES=[\"site\",\"mediawiki.page.ready\",\"skins.vector.legacy.js\",\"ext.visualEditor.desktopArticleTarget.init\",\"ext.visualEditor.targetLoader\"];\n",
      "  </script>\n",
      "  <script>\n",
      "   (RLQ=window.RLQ||[]).push(function(){mw.loader.implement(\"user.options@12s5i\",function($,jQuery,require,module){mw.user.tokens.set({\"patrolToken\":\"+\\\\\",\"watchToken\":\"+\\\\\",\"csrfToken\":\"+\\\\\"});});});\n",
      "  </script>\n",
      "  <link href=\"/its-infowiki/load.php?lang=de&amp;modules=ext.visualEditor.desktopArticleTarget.noscript%7Cskins.vector.styles.legacy&amp;only=styles&amp;skin=vector\" rel=\"stylesheet\"/>\n",
      "  <script async=\"\" src=\"/its-infowiki/load.php?lang=de&amp;modules=startup&amp;only=scripts&amp;raw=1&amp;skin=vector\">\n",
      "  </script>\n",
      "  <meta content=\"\" name=\"ResourceLoaderDynamicStyles\"/>\n",
      "  <link href=\"/its-infowiki/load.php?lang=de&amp;modules=site.styles&amp;only=styles&amp;skin=vector\" rel=\"stylesheet\"/>\n",
      "  <meta content=\"MediaWiki 1.39.5\" name=\"generator\"/>\n",
      "  <meta content=\"telephone=no\" name=\"format-detection\"/>\n",
      "  <meta content=\"width=1000\" name=\"viewport\"/>\n",
      "  <link href=\"/favicon.ico\" rel=\"icon\"/>\n",
      "  <link href=\"/its-infowiki/opensearch_desc.php\" rel=\"search\" title=\"ITS-Infowiki (de)\" type=\"application/opensearchdescription+xml\"/>\n",
      "  <link href=\"https://its-infowiki.dhbw-ravensburg.de/its-infowiki/api.php?action=rsd\" rel=\"EditURI\" type=\"application/rsd+xml\"/>\n",
      "  <link href=\"https://creativecommons.org/licenses/by-nc-sa/4.0/\" rel=\"license\"/>\n",
      "  <link href=\"/its-infowiki/index.php?title=Spezial:Letzte_%C3%84nderungen&amp;feed=atom\" rel=\"alternate\" title=\"Atom-Feed für „ITS-Infowiki“\" type=\"application/atom+xml\"/>\n",
      " </head>\n",
      " <body class=\"mediawiki ltr sitedir-ltr mw-hide-empty-elt ns-0 ns-subject page-Infoseite_für_Studenten_der_DHBW_Ravensburg rootpage-Infoseite_für_Studenten_der_DHBW_Ravensburg skin-vector action-view skin-vector-legacy vector-feature-language-in-header-enabled vector-feature-language-in-main-page-header-disabled vector-feature-language-alert-in-sidebar-disabled vector-feature-sticky-header-disabled vector-feature-sticky-header-edit-disabled vector-feature-table-of-contents-disabled vector-feature-visual-enhancement-next-disabled\">\n",
      "  <div class=\"noprint\" id=\"mw-page-base\">\n",
      "  </div>\n",
      "  <div class=\"noprint\" id=\"mw-head-base\">\n",
      "  </div>\n",
      "  <div class=\"mw-body\" id=\"content\" role=\"main\">\n",
      "   <a id=\"top\">\n",
      "   </a>\n",
      "   <div id=\"siteNotice\">\n",
      "   </div>\n",
      "   <div class=\"mw-indicators\">\n",
      "   </div>\n",
      "   <h1 class=\"firstHeading mw-first-heading\" id=\"firstHeading\">\n",
      "    <span class=\"mw-page-title-main\">\n",
      "     Infoseite für Studenten der DHBW Ravensburg\n",
      "    </span>\n",
      "   </h1>\n",
      "   <div class=\"vector-body\" id=\"bodyContent\">\n",
      "    <div class=\"noprint\" id=\"siteSub\">\n",
      "     Aus ITS-Infowiki\n",
      "    </div>\n",
      "    <div id=\"contentSub\">\n",
      "    </div>\n",
      "    <div id=\"contentSub2\">\n",
      "    </div>\n",
      "    <div id=\"jump-to-nav\">\n",
      "    </div>\n",
      "    <a class=\"mw-jump-link\" href=\"#mw-head\">\n",
      "     Zur Navigation springen\n",
      "    </a>\n",
      "    <a class=\"mw-jump-link\" href=\"#searchInput\">\n",
      "     Zur Suche springen\n",
      "    </a>\n",
      "    <div class=\"mw-body-content mw-content-ltr\" dir=\"ltr\" id=\"mw-content-text\" lang=\"de\">\n",
      "     <div class=\"mw-parser-output\">\n",
      "      <p>\n",
      "       <big>\n",
      "        Hier finden Sie alle Informationen für Studenten.\n",
      "       </big>\n",
      "      </p>\n",
      "      <table class=\"wikitable\">\n",
      "       <caption>\n",
      "       </caption>\n",
      "       <tbody>\n",
      "        <tr>\n",
      "         <th>\n",
      "          Benutzerverwaltung\n",
      "         </th>\n",
      "         <th>\n",
      "         </th>\n",
      "        </tr>\n",
      "        <tr>\n",
      "         <td>\n",
      "          <a href=\"/its-infowiki/index.php/Hochschulkonto_Ausbildung\" title=\"Hochschulkonto Ausbildung\">\n",
      "           Hochschulkonto Ausbildung\n",
      "          </a>\n",
      "         </td>\n",
      "         <td>\n",
      "          Zugangsdaten, die benötigt werden, um die IT-Dienste der DHBW für die Ausbildung zu nutzen\n",
      "         </td>\n",
      "        </tr>\n",
      "        <tr>\n",
      "         <th>\n",
      "          Netzwerk\n",
      "         </th>\n",
      "         <th>\n",
      "         </th>\n",
      "        </tr>\n",
      "        <tr>\n",
      "         <td>\n",
      "          <a href=\"/its-infowiki/index.php/Eduroam\" title=\"Eduroam\">\n",
      "           eduroam\n",
      "          </a>\n",
      "         </td>\n",
      "         <td>\n",
      "          Freier WLAN-Zugang weltweit bei wissenschaftlichen Einrichtungen\n",
      "         </td>\n",
      "        </tr>\n",
      "        <tr>\n",
      "         <td>\n",
      "          <a href=\"/its-infowiki/index.php/WLAN\" title=\"WLAN\">\n",
      "           WLAN\n",
      "          </a>\n",
      "         </td>\n",
      "         <td>\n",
      "          Zugang über das WLAN (Funknetzwerk) der Hochschule ins Internet\n",
      "         </td>\n",
      "        </tr>\n",
      "        <tr>\n",
      "         <th>\n",
      "          Service\n",
      "         </th>\n",
      "         <th>\n",
      "         </th>\n",
      "        </tr>\n",
      "        <tr>\n",
      "         <td>\n",
      "          <a href=\"/its-infowiki/index.php/Ticketsystem\" title=\"Ticketsystem\">\n",
      "           Ticketsystem Zammad\n",
      "          </a>\n",
      "         </td>\n",
      "         <td>\n",
      "          Verwaltung von Anfragen und Vorgängen, z.B. Fehlerbearbeitung\n",
      "         </td>\n",
      "        </tr>\n",
      "        <tr>\n",
      "         <td>\n",
      "          <a class=\"mw-redirect\" href=\"/its-infowiki/index.php/IT-Notfall_Hotline\" title=\"IT-Notfall Hotline\">\n",
      "           IT-Notfall Hotline\n",
      "          </a>\n",
      "         </td>\n",
      "         <td>\n",
      "          Bei dringenden IT-Störungen, falls der IT-Hausverantwortliche nicht erreicht werden kann\n",
      "         </td>\n",
      "        </tr>\n",
      "        <tr>\n",
      "         <th>\n",
      "          Zusammenarbeit\n",
      "         </th>\n",
      "         <th>\n",
      "         </th>\n",
      "        </tr>\n",
      "        <tr>\n",
      "         <td>\n",
      "          <a href=\"/its-infowiki/index.php/Shared_Folder\" title=\"Shared Folder\">\n",
      "           Gruppenlaufwerke\n",
      "          </a>\n",
      "         </td>\n",
      "         <td>\n",
      "          Gemeinsames Netzwerklaufwerk einer Benutzergruppe\n",
      "         </td>\n",
      "        </tr>\n",
      "        <tr>\n",
      "         <th>\n",
      "          Räume und Ausstattung\n",
      "         </th>\n",
      "         <th>\n",
      "         </th>\n",
      "        </tr>\n",
      "        <tr>\n",
      "         <td>\n",
      "          <a href=\"/its-infowiki/index.php/R%C3%A4ume_Campus_Ravensburg\" title=\"Räume Campus Ravensburg\">\n",
      "           Räume Campus Ravensburg\n",
      "          </a>\n",
      "         </td>\n",
      "         <td>\n",
      "          Informationen und Öffnungszeiten zu den Räumen am Campus in Ravensburg\n",
      "         </td>\n",
      "        </tr>\n",
      "        <tr>\n",
      "         <td>\n",
      "          <a href=\"/its-infowiki/index.php/R%C3%A4ume_Campus_Friedrichshafen\" title=\"Räume Campus Friedrichshafen\">\n",
      "           Räume Campus Friedrichshafen\n",
      "          </a>\n",
      "         </td>\n",
      "         <td>\n",
      "          Informationen und Öffnungszeiten zu den Räumen am Campus in Friedrichshafen\n",
      "         </td>\n",
      "        </tr>\n",
      "        <tr>\n",
      "         <th>\n",
      "          IT-Dienste für das Studium\n",
      "         </th>\n",
      "         <th>\n",
      "         </th>\n",
      "        </tr>\n",
      "        <tr>\n",
      "         <td>\n",
      "          <a href=\"/its-infowiki/index.php/DHBW_Account\" title=\"DHBW Account\">\n",
      "           DHBW Account\n",
      "          </a>\n",
      "         </td>\n",
      "         <td>\n",
      "          Benutzer und Kennwort für IT-Dienste\n",
      "         </td>\n",
      "        </tr>\n",
      "        <tr>\n",
      "         <td>\n",
      "          <a href=\"/its-infowiki/index.php/WLAN\" title=\"WLAN\">\n",
      "           WLAN\n",
      "          </a>\n",
      "         </td>\n",
      "         <td>\n",
      "          Drahtloser Zugang ins Internet\n",
      "         </td>\n",
      "        </tr>\n",
      "        <tr>\n",
      "         <td>\n",
      "          <a href=\"/its-infowiki/index.php/Outlook_Web_App\" title=\"Outlook Web App\">\n",
      "           DHBW E-Mail-Postfach\n",
      "          </a>\n",
      "         </td>\n",
      "         <td>\n",
      "          Verwaltung von E-Mails und Terminen\n",
      "         </td>\n",
      "        </tr>\n",
      "        <tr>\n",
      "         <td>\n",
      "          <a href=\"/its-infowiki/index.php/Kopieren,_Drucken,_Scannen\" title=\"Kopieren, Drucken, Scannen\">\n",
      "           Kopieren, Drucken, Scannen\n",
      "          </a>\n",
      "         </td>\n",
      "         <td>\n",
      "          Kopieren, Drucken und Scannen auf dem DHBW Campus\n",
      "         </td>\n",
      "        </tr>\n",
      "        <tr>\n",
      "         <td>\n",
      "          <a href=\"/its-infowiki/index.php/Laufwerke\" title=\"Laufwerke\">\n",
      "           Laufwerke\n",
      "          </a>\n",
      "         </td>\n",
      "         <td>\n",
      "          Speicherkapazitäten am Campus\n",
      "         </td>\n",
      "        </tr>\n",
      "        <tr>\n",
      "         <td>\n",
      "          <a href=\"/its-infowiki/index.php/DUALIS\" title=\"DUALIS\">\n",
      "           DUALIS\n",
      "          </a>\n",
      "         </td>\n",
      "         <td>\n",
      "          Zugang zu Prüfungsleistungen\n",
      "         </td>\n",
      "        </tr>\n",
      "        <tr>\n",
      "         <td>\n",
      "          <a href=\"/its-infowiki/index.php/VPN-Zugang_Campus_FN\" title=\"VPN-Zugang Campus FN\">\n",
      "           VPN-Zugang Campus FN\n",
      "          </a>\n",
      "         </td>\n",
      "         <td>\n",
      "          VPN-Zugang für Studierende Technik\n",
      "         </td>\n",
      "        </tr>\n",
      "        <tr>\n",
      "         <td>\n",
      "          <a href=\"/its-infowiki/index.php/Passwort_Selfservice\" title=\"Passwort Selfservice\">\n",
      "           Passwort Self-Service\n",
      "          </a>\n",
      "         </td>\n",
      "         <td>\n",
      "          Eigenes Zugriffspasswort ändern\n",
      "         </td>\n",
      "        </tr>\n",
      "        <tr>\n",
      "         <td>\n",
      "          <a href=\"/its-infowiki/index.php/IBM_SPSS_Statistics_%E2%80%93_Nutzung_auf_privatem_Client_(RV)\" title=\"IBM SPSS Statistics – Nutzung auf privatem Client (RV)\">\n",
      "           IBM SPSS Statistics über VPN\n",
      "          </a>\n",
      "         </td>\n",
      "         <td>\n",
      "          Nutzung von IBM SPSS Statistics über VPN auf einem privaten Client (nur Studenten aus RV)\n",
      "         </td>\n",
      "        </tr>\n",
      "        <tr>\n",
      "         <td>\n",
      "          <a href=\"/its-infowiki/index.php/MAXQDA_%E2%80%93_Nutzung_auf_privatem_Client_(RV)\" title=\"MAXQDA – Nutzung auf privatem Client (RV)\">\n",
      "           MAXQDA über VPN\n",
      "          </a>\n",
      "         </td>\n",
      "         <td>\n",
      "          Nutzung von MAXQDA über VPN auf einem privaten Client (nur Studenten aus RV)\n",
      "         </td>\n",
      "        </tr>\n",
      "        <tr>\n",
      "         <td>\n",
      "          <a href=\"/its-infowiki/index.php/Shibboleth-Zugang\" title=\"Shibboleth-Zugang\">\n",
      "           Shibboleth-Zugang\n",
      "          </a>\n",
      "         </td>\n",
      "         <td>\n",
      "          Single-Sign-On für diverse Onlineangebote\n",
      "         </td>\n",
      "        </tr>\n",
      "        <tr>\n",
      "         <th>\n",
      "          Plattformen\n",
      "         </th>\n",
      "         <th>\n",
      "         </th>\n",
      "        </tr>\n",
      "        <tr>\n",
      "         <td>\n",
      "          <a href=\"/its-infowiki/index.php/Moodle\" title=\"Moodle\">\n",
      "           Moodle\n",
      "          </a>\n",
      "         </td>\n",
      "         <td>\n",
      "          E-Learning-Plattform\n",
      "         </td>\n",
      "        </tr>\n",
      "        <tr>\n",
      "         <td>\n",
      "          <a href=\"/its-infowiki/index.php/Adobe_Connect\" title=\"Adobe Connect\">\n",
      "           Adobe Connect\n",
      "          </a>\n",
      "         </td>\n",
      "         <td>\n",
      "          Webkonferenz-System\n",
      "         </td>\n",
      "        </tr>\n",
      "        <tr>\n",
      "         <td>\n",
      "          <a href=\"/its-infowiki/index.php/Gigamove\" title=\"Gigamove\">\n",
      "           Gigamove\n",
      "          </a>\n",
      "         </td>\n",
      "         <td>\n",
      "          Dateiaustausch bis 100 GB\n",
      "         </td>\n",
      "        </tr>\n",
      "        <tr>\n",
      "         <td>\n",
      "          <a href=\"/its-infowiki/index.php/BwSync%26Share\" title=\"BwSync&amp;Share\">\n",
      "           bwSync&amp;Share\n",
      "          </a>\n",
      "         </td>\n",
      "         <td>\n",
      "          Cloud-Speicher bis 25 GB\n",
      "         </td>\n",
      "        </tr>\n",
      "        <tr>\n",
      "         <td>\n",
      "          <a href=\"/its-infowiki/index.php/BigBlueButton\" title=\"BigBlueButton\">\n",
      "           BigBlueButton\n",
      "          </a>\n",
      "         </td>\n",
      "         <td>\n",
      "          Videokonferenz-System\n",
      "         </td>\n",
      "        </tr>\n",
      "        <tr>\n",
      "         <td>\n",
      "          <a href=\"/its-infowiki/index.php/Zoom\" title=\"Zoom\">\n",
      "           Zoom\n",
      "          </a>\n",
      "         </td>\n",
      "         <td>\n",
      "          Videokonferenz-System\n",
      "         </td>\n",
      "        </tr>\n",
      "        <tr>\n",
      "         <th>\n",
      "          Softwareangebote\n",
      "         </th>\n",
      "         <th>\n",
      "         </th>\n",
      "        </tr>\n",
      "        <tr>\n",
      "         <td>\n",
      "          <a href=\"/its-infowiki/index.php/Microsoft_Office_365\" title=\"Microsoft Office 365\">\n",
      "           MS Office 365 ProPlus\n",
      "          </a>\n",
      "         </td>\n",
      "         <td>\n",
      "          Office Suite zur privaten Nutzung\n",
      "         </td>\n",
      "        </tr>\n",
      "        <tr>\n",
      "         <td>\n",
      "          <a href=\"/its-infowiki/index.php/Matlab\" title=\"Matlab\">\n",
      "           Matlab\n",
      "          </a>\n",
      "         </td>\n",
      "         <td>\n",
      "          Mathematische Problemlösung und Datenvisualisierung\n",
      "         </td>\n",
      "        </tr>\n",
      "        <tr>\n",
      "         <td>\n",
      "          <a href=\"/its-infowiki/index.php/Software_f%C3%BCr_Maschinenbau\" title=\"Software für Maschinenbau\">\n",
      "           Software für Maschinenbau\n",
      "          </a>\n",
      "         </td>\n",
      "         <td>\n",
      "          CAD / CAM / CAE Programme\n",
      "         </td>\n",
      "        </tr>\n",
      "       </tbody>\n",
      "      </table>\n",
      "      <p>\n",
      "       <b>\n",
      "        Ansprechpersonen\n",
      "       </b>\n",
      "      </p>\n",
      "      <p>\n",
      "       Bei Fragen steht das Team des IT.S gerne zur Verfügung. Im\n",
      "       <a class=\"external text\" href=\"https://www.ravensburg.dhbw.de/dhbw-ravensburg/ansprechpersonen\" rel=\"nofollow\">\n",
      "        Ansprechpersonenverzeichnis\n",
      "       </a>\n",
      "       unter\n",
      "       <i>\n",
      "        Zentrale Einrichtungen\n",
      "       </i>\n",
      "       –\n",
      "       <i>\n",
      "        IT.Service Center\n",
      "       </i>\n",
      "       sind alle Beschäftigten des IT.S mit ihren Aufgabengebieten aufgeführt.\n",
      "      </p>\n",
      "      <p>\n",
      "       <br/>\n",
      "      </p>\n",
      "      <hr/>\n",
      "      <div style=\"border-block: none; writing-mode: horizontal-tb; clear:both; border-radius: 10px; background: lightyellow; padding: 5px; border-color:#FF0000;\">\n",
      "       <font color=\"tomato\" size=\"2\">\n",
      "        <p>\n",
      "         Zur besseren Lesbarkeit verwenden wir im Text die männliche Form. Gemeint sind jedoch immer alle Geschlechter.\n",
      "        </p>\n",
      "       </font>\n",
      "      </div>\n",
      "      <!-- \n",
      "NewPP limit report\n",
      "Cached time: 20231011221206\n",
      "Cache expiry: 86400\n",
      "Reduced expiry: false\n",
      "Complications: []\n",
      "CPU time usage: 0.022 seconds\n",
      "Real time usage: 0.025 seconds\n",
      "Preprocessor visited node count: 20/1000000\n",
      "Post‐expand include size: 371/2097152 bytes\n",
      "Template argument size: 111/2097152 bytes\n",
      "Highest expansion depth: 4/100\n",
      "Expensive parser function count: 0/100\n",
      "Unstrip recursion depth: 0/20\n",
      "Unstrip post‐expand size: 0/5000000 bytes\n",
      "-->\n",
      "      <!--\n",
      "Transclusion expansion time report (%,ms,calls,template)\n",
      "100.00%    8.429      1 Vorlage:Kasten\n",
      "100.00%    8.429      1 -total\n",
      "-->\n",
      "      <!-- Saved in parser cache with key its_infowikidb:pcache:idhash:144-0!canonical and timestamp 20231011221206 and revision id 2390.\n",
      " -->\n",
      "     </div>\n",
      "     <div class=\"printfooter\" data-nosnippet=\"\">\n",
      "      Abgerufen von „\n",
      "      <a dir=\"ltr\" href=\"https://its-infowiki.dhbw-ravensburg.de/its-infowiki/index.php?title=Infoseite_für_Studenten_der_DHBW_Ravensburg&amp;oldid=2390\">\n",
      "       https://its-infowiki.dhbw-ravensburg.de/its-infowiki/index.php?title=Infoseite_für_Studenten_der_DHBW_Ravensburg&amp;oldid=2390\n",
      "      </a>\n",
      "      “\n",
      "     </div>\n",
      "    </div>\n",
      "    <div class=\"catlinks catlinks-allhidden\" data-mw=\"interface\" id=\"catlinks\">\n",
      "    </div>\n",
      "   </div>\n",
      "  </div>\n",
      "  <div id=\"mw-navigation\">\n",
      "   <h2>\n",
      "    Navigationsmenü\n",
      "   </h2>\n",
      "   <div id=\"mw-head\">\n",
      "    <nav aria-labelledby=\"p-personal-label\" class=\"vector-menu mw-portlet mw-portlet-personal vector-user-menu-legacy\" id=\"p-personal\" role=\"navigation\">\n",
      "     <h3 class=\"vector-menu-heading\" id=\"p-personal-label\">\n",
      "      <span class=\"vector-menu-heading-label\">\n",
      "       Meine Werkzeuge\n",
      "      </span>\n",
      "     </h3>\n",
      "     <div class=\"vector-menu-content\">\n",
      "      <ul class=\"vector-menu-content-list\">\n",
      "       <li class=\"mw-list-item\" id=\"pt-login\">\n",
      "        <a accesskey=\"o\" href=\"/its-infowiki/index.php?title=Spezial:Anmelden&amp;returnto=Infoseite+f%C3%BCr+Studenten+der+DHBW+Ravensburg\" title=\"Sich anzumelden wird gerne gesehen, ist jedoch nicht zwingend erforderlich. [o]\">\n",
      "         <span>\n",
      "          Anmelden\n",
      "         </span>\n",
      "        </a>\n",
      "       </li>\n",
      "      </ul>\n",
      "     </div>\n",
      "    </nav>\n",
      "    <div id=\"left-navigation\">\n",
      "     <nav aria-labelledby=\"p-namespaces-label\" class=\"vector-menu mw-portlet mw-portlet-namespaces vector-menu-tabs vector-menu-tabs-legacy\" id=\"p-namespaces\" role=\"navigation\">\n",
      "      <h3 class=\"vector-menu-heading\" id=\"p-namespaces-label\">\n",
      "       <span class=\"vector-menu-heading-label\">\n",
      "        Namensräume\n",
      "       </span>\n",
      "      </h3>\n",
      "      <div class=\"vector-menu-content\">\n",
      "       <ul class=\"vector-menu-content-list\">\n",
      "        <li class=\"selected mw-list-item\" id=\"ca-nstab-main\">\n",
      "         <a accesskey=\"c\" href=\"/its-infowiki/index.php/Infoseite_f%C3%BCr_Studenten_der_DHBW_Ravensburg\" title=\"Seiteninhalt anzeigen [c]\">\n",
      "          <span>\n",
      "           Seite\n",
      "          </span>\n",
      "         </a>\n",
      "        </li>\n",
      "        <li class=\"new mw-list-item\" id=\"ca-talk\">\n",
      "         <a accesskey=\"t\" href=\"/its-infowiki/index.php?title=Diskussion:Infoseite_f%C3%BCr_Studenten_der_DHBW_Ravensburg&amp;action=edit&amp;redlink=1\" rel=\"discussion\" title=\"Diskussion zum Seiteninhalt (Seite nicht vorhanden) [t]\">\n",
      "          <span>\n",
      "           Diskussion\n",
      "          </span>\n",
      "         </a>\n",
      "        </li>\n",
      "       </ul>\n",
      "      </div>\n",
      "     </nav>\n",
      "     <nav aria-labelledby=\"p-variants-label\" class=\"vector-menu mw-portlet mw-portlet-variants emptyPortlet vector-menu-dropdown\" id=\"p-variants\" role=\"navigation\">\n",
      "      <input aria-haspopup=\"true\" aria-labelledby=\"p-variants-label\" class=\"vector-menu-checkbox\" data-event-name=\"ui.dropdown-p-variants\" id=\"p-variants-checkbox\" role=\"button\" type=\"checkbox\"/>\n",
      "      <label aria-label=\"Sprachvariante ändern\" class=\"vector-menu-heading\" id=\"p-variants-label\">\n",
      "       <span class=\"vector-menu-heading-label\">\n",
      "        Deutsch\n",
      "       </span>\n",
      "      </label>\n",
      "      <div class=\"vector-menu-content\">\n",
      "       <ul class=\"vector-menu-content-list\">\n",
      "       </ul>\n",
      "      </div>\n",
      "     </nav>\n",
      "    </div>\n",
      "    <div id=\"right-navigation\">\n",
      "     <nav aria-labelledby=\"p-views-label\" class=\"vector-menu mw-portlet mw-portlet-views vector-menu-tabs vector-menu-tabs-legacy\" id=\"p-views\" role=\"navigation\">\n",
      "      <h3 class=\"vector-menu-heading\" id=\"p-views-label\">\n",
      "       <span class=\"vector-menu-heading-label\">\n",
      "        Ansichten\n",
      "       </span>\n",
      "      </h3>\n",
      "      <div class=\"vector-menu-content\">\n",
      "       <ul class=\"vector-menu-content-list\">\n",
      "        <li class=\"selected mw-list-item\" id=\"ca-view\">\n",
      "         <a href=\"/its-infowiki/index.php/Infoseite_f%C3%BCr_Studenten_der_DHBW_Ravensburg\">\n",
      "          <span>\n",
      "           Lesen\n",
      "          </span>\n",
      "         </a>\n",
      "        </li>\n",
      "        <li class=\"mw-list-item\" id=\"ca-viewsource\">\n",
      "         <a accesskey=\"e\" href=\"/its-infowiki/index.php?title=Infoseite_f%C3%BCr_Studenten_der_DHBW_Ravensburg&amp;action=edit\" title=\"Diese Seite ist geschützt. Ihr Quelltext kann dennoch angesehen und kopiert werden. [e]\">\n",
      "          <span>\n",
      "           Quelltext anzeigen\n",
      "          </span>\n",
      "         </a>\n",
      "        </li>\n",
      "        <li class=\"mw-list-item\" id=\"ca-history\">\n",
      "         <a accesskey=\"h\" href=\"/its-infowiki/index.php?title=Infoseite_f%C3%BCr_Studenten_der_DHBW_Ravensburg&amp;action=history\" title=\"Frühere Versionen dieser Seite [h]\">\n",
      "          <span>\n",
      "           Versionsgeschichte\n",
      "          </span>\n",
      "         </a>\n",
      "        </li>\n",
      "       </ul>\n",
      "      </div>\n",
      "     </nav>\n",
      "     <nav aria-labelledby=\"p-cactions-label\" class=\"vector-menu mw-portlet mw-portlet-cactions emptyPortlet vector-menu-dropdown\" id=\"p-cactions\" role=\"navigation\" title=\"Weitere Optionen\">\n",
      "      <input aria-haspopup=\"true\" aria-labelledby=\"p-cactions-label\" class=\"vector-menu-checkbox\" data-event-name=\"ui.dropdown-p-cactions\" id=\"p-cactions-checkbox\" role=\"button\" type=\"checkbox\"/>\n",
      "      <label class=\"vector-menu-heading\" id=\"p-cactions-label\">\n",
      "       <span class=\"vector-menu-heading-label\">\n",
      "        Weitere\n",
      "       </span>\n",
      "      </label>\n",
      "      <div class=\"vector-menu-content\">\n",
      "       <ul class=\"vector-menu-content-list\">\n",
      "       </ul>\n",
      "      </div>\n",
      "     </nav>\n",
      "     <div class=\"vector-search-box-vue vector-search-box-show-thumbnail vector-search-box-auto-expand-width vector-search-box\" id=\"p-search\" role=\"search\">\n",
      "      <div>\n",
      "       <h3>\n",
      "        <label for=\"searchInput\">\n",
      "         Suche\n",
      "        </label>\n",
      "       </h3>\n",
      "       <form action=\"/its-infowiki/index.php\" class=\"vector-search-box-form\" id=\"searchform\">\n",
      "        <div class=\"vector-search-box-inner\" data-search-loc=\"header-navigation\" id=\"simpleSearch\">\n",
      "         <input accesskey=\"f\" aria-label=\"ITS-Infowiki durchsuchen\" autocapitalize=\"sentences\" class=\"vector-search-box-input\" id=\"searchInput\" name=\"search\" placeholder=\"ITS-Infowiki durchsuchen\" title=\"ITS-Infowiki durchsuchen [f]\" type=\"search\"/>\n",
      "         <input name=\"title\" type=\"hidden\" value=\"Spezial:Suche\"/>\n",
      "         <input class=\"searchButton mw-fallbackSearchButton\" id=\"mw-searchButton\" name=\"fulltext\" title=\"Suche nach Seiten, die diesen Text enthalten\" type=\"submit\" value=\"Suchen\"/>\n",
      "         <input class=\"searchButton\" id=\"searchButton\" name=\"go\" title=\"Gehe direkt zu der Seite mit genau diesem Namen, falls sie vorhanden ist.\" type=\"submit\" value=\"Seite\"/>\n",
      "        </div>\n",
      "       </form>\n",
      "      </div>\n",
      "     </div>\n",
      "    </div>\n",
      "   </div>\n",
      "   <div id=\"mw-panel\">\n",
      "    <div id=\"p-logo\" role=\"banner\">\n",
      "     <a class=\"mw-wiki-logo\" href=\"/its-infowiki/index.php/IT-_und_Mediendienste_(Service-Katalog)\" title=\"Hauptseite\">\n",
      "     </a>\n",
      "    </div>\n",
      "    <nav aria-labelledby=\"p-Blank-label\" class=\"vector-menu mw-portlet mw-portlet-Blank emptyPortlet vector-menu-portal portal\" id=\"p-Blank\" role=\"navigation\">\n",
      "     <h3 class=\"vector-menu-heading\" id=\"p-Blank-label\">\n",
      "      <span class=\"vector-menu-heading-label\">\n",
      "       Blank\n",
      "      </span>\n",
      "     </h3>\n",
      "     <div class=\"vector-menu-content\">\n",
      "      <ul class=\"vector-menu-content-list\">\n",
      "      </ul>\n",
      "     </div>\n",
      "    </nav>\n",
      "    <nav aria-labelledby=\"p-Schnellzugriff-label\" class=\"vector-menu mw-portlet mw-portlet-Schnellzugriff vector-menu-portal portal\" id=\"p-Schnellzugriff\" role=\"navigation\">\n",
      "     <h3 class=\"vector-menu-heading\" id=\"p-Schnellzugriff-label\">\n",
      "      <span class=\"vector-menu-heading-label\">\n",
      "       Schnellzugriff\n",
      "      </span>\n",
      "     </h3>\n",
      "     <div class=\"vector-menu-content\">\n",
      "      <ul class=\"vector-menu-content-list\">\n",
      "       <li class=\"mw-list-item\" id=\"n-Startseite\">\n",
      "        <a href=\"/its-infowiki/index.php/IT-_und_Mediendienste_(Service-Katalog)\">\n",
      "         <span>\n",
      "          Startseite\n",
      "         </span>\n",
      "        </a>\n",
      "       </li>\n",
      "       <li class=\"mw-list-item\" id=\"n-Informationssicherheit\">\n",
      "        <a href=\"/its-infowiki/index.php/Kategorie:Infosec\">\n",
      "         <span>\n",
      "          Informationssicherheit\n",
      "         </span>\n",
      "        </a>\n",
      "       </li>\n",
      "       <li class=\"mw-list-item\" id=\"n-Diensteliste\">\n",
      "        <a href=\"/its-infowiki/index.php/Diensteliste\">\n",
      "         <span>\n",
      "          Diensteliste\n",
      "         </span>\n",
      "        </a>\n",
      "       </li>\n",
      "       <li class=\"mw-list-item\" id=\"n-Für-Studierende\">\n",
      "        <a href=\"/its-infowiki/index.php/Infoseite_f%C3%BCr_Studenten_der_DHBW_Ravensburg\">\n",
      "         <span>\n",
      "          Für Studierende\n",
      "         </span>\n",
      "        </a>\n",
      "       </li>\n",
      "       <li class=\"mw-list-item\" id=\"n-Für-Mitarbeitende\">\n",
      "        <a href=\"/its-infowiki/index.php/Infoseite_f%C3%BCr_Mitarbeiter_der_DHBW_Ravensburg\">\n",
      "         <span>\n",
      "          Für Mitarbeitende\n",
      "         </span>\n",
      "        </a>\n",
      "       </li>\n",
      "       <li class=\"mw-list-item\" id=\"n-Für-Lehrbeauftragte\">\n",
      "        <a href=\"/its-infowiki/index.php/Infoseite_f%C3%BCr_externe_Lehrbeauftragte_der_DHBW_Ravensburg\">\n",
      "         <span>\n",
      "          Für Lehrbeauftragte\n",
      "         </span>\n",
      "        </a>\n",
      "       </li>\n",
      "      </ul>\n",
      "     </div>\n",
      "    </nav>\n",
      "    <nav aria-labelledby=\"p-tb-label\" class=\"vector-menu mw-portlet mw-portlet-tb vector-menu-portal portal\" id=\"p-tb\" role=\"navigation\">\n",
      "     <h3 class=\"vector-menu-heading\" id=\"p-tb-label\">\n",
      "      <span class=\"vector-menu-heading-label\">\n",
      "       Werkzeuge\n",
      "      </span>\n",
      "     </h3>\n",
      "     <div class=\"vector-menu-content\">\n",
      "      <ul class=\"vector-menu-content-list\">\n",
      "       <li class=\"mw-list-item\" id=\"t-whatlinkshere\">\n",
      "        <a accesskey=\"j\" href=\"/its-infowiki/index.php/Spezial:Linkliste/Infoseite_f%C3%BCr_Studenten_der_DHBW_Ravensburg\" title=\"Liste aller Seiten, die hierher verlinken [j]\">\n",
      "         <span>\n",
      "          Links auf diese Seite\n",
      "         </span>\n",
      "        </a>\n",
      "       </li>\n",
      "       <li class=\"mw-list-item\" id=\"t-recentchangeslinked\">\n",
      "        <a accesskey=\"k\" href=\"/its-infowiki/index.php/Spezial:%C3%84nderungen_an_verlinkten_Seiten/Infoseite_f%C3%BCr_Studenten_der_DHBW_Ravensburg\" rel=\"nofollow\" title=\"Letzte Änderungen an Seiten, die von hier verlinkt sind [k]\">\n",
      "         <span>\n",
      "          Änderungen an verlinkten Seiten\n",
      "         </span>\n",
      "        </a>\n",
      "       </li>\n",
      "       <li class=\"mw-list-item\" id=\"t-specialpages\">\n",
      "        <a accesskey=\"q\" href=\"/its-infowiki/index.php/Spezial:Spezialseiten\" title=\"Liste aller Spezialseiten [q]\">\n",
      "         <span>\n",
      "          Spezialseiten\n",
      "         </span>\n",
      "        </a>\n",
      "       </li>\n",
      "       <li class=\"mw-list-item\" id=\"t-print\">\n",
      "        <a accesskey=\"p\" href=\"javascript:print();\" rel=\"alternate\" title=\"Druckansicht dieser Seite [p]\">\n",
      "         <span>\n",
      "          Druckversion\n",
      "         </span>\n",
      "        </a>\n",
      "       </li>\n",
      "       <li class=\"mw-list-item\" id=\"t-permalink\">\n",
      "        <a href=\"/its-infowiki/index.php?title=Infoseite_f%C3%BCr_Studenten_der_DHBW_Ravensburg&amp;oldid=2390\" title=\"Dauerhafter Link zu dieser Seitenversion\">\n",
      "         <span>\n",
      "          Permanenter Link\n",
      "         </span>\n",
      "        </a>\n",
      "       </li>\n",
      "       <li class=\"mw-list-item\" id=\"t-info\">\n",
      "        <a href=\"/its-infowiki/index.php?title=Infoseite_f%C3%BCr_Studenten_der_DHBW_Ravensburg&amp;action=info\" title=\"Weitere Informationen über diese Seite\">\n",
      "         <span>\n",
      "          Seiten­­informationen\n",
      "         </span>\n",
      "        </a>\n",
      "       </li>\n",
      "       <li class=\"mw-list-item\" id=\"t-cite\">\n",
      "        <a href=\"/its-infowiki/index.php?title=Spezial:Zitierhilfe&amp;page=Infoseite_f%C3%BCr_Studenten_der_DHBW_Ravensburg&amp;id=2390&amp;wpFormIdentifier=titleform\" title=\"Hinweise, wie diese Seite zitiert werden kann\">\n",
      "         <span>\n",
      "          Seite zitieren\n",
      "         </span>\n",
      "        </a>\n",
      "       </li>\n",
      "      </ul>\n",
      "     </div>\n",
      "    </nav>\n",
      "   </div>\n",
      "  </div>\n",
      "  <footer class=\"mw-footer\" id=\"footer\" role=\"contentinfo\">\n",
      "   <ul id=\"footer-info\">\n",
      "    <li id=\"footer-info-lastmod\">\n",
      "     Diese Seite wurde zuletzt am 12. September 2023 um 09:12 Uhr bearbeitet.\n",
      "    </li>\n",
      "    <li id=\"footer-info-copyright\">\n",
      "     Der Inhalt ist verfügbar unter der Lizenz\n",
      "     <a class=\"external\" href=\"https://creativecommons.org/licenses/by-nc-sa/4.0/\" rel=\"nofollow\">\n",
      "      Creative Commons „Namensnennung – nicht kommerziell – Weitergabe unter gleichen Bedingungen“\n",
      "     </a>\n",
      "     , sofern nicht anders angegeben.\n",
      "    </li>\n",
      "   </ul>\n",
      "   <ul id=\"footer-places\">\n",
      "    <li id=\"footer-places-privacy\">\n",
      "     <a href=\"/its-infowiki/index.php/ITS-Infowiki:Datenschutz\">\n",
      "      Datenschutz\n",
      "     </a>\n",
      "    </li>\n",
      "    <li id=\"footer-places-about\">\n",
      "     <a href=\"/its-infowiki/index.php/ITS-Infowiki:%C3%9Cber_ITS-Infowiki\">\n",
      "      Über ITS-Infowiki\n",
      "     </a>\n",
      "    </li>\n",
      "    <li id=\"footer-places-disclaimer\">\n",
      "     <a href=\"/its-infowiki/index.php/ITS-Infowiki:Impressum\">\n",
      "      Haftungsausschluss\n",
      "     </a>\n",
      "    </li>\n",
      "   </ul>\n",
      "   <ul class=\"noprint\" id=\"footer-icons\">\n",
      "    <li id=\"footer-copyrightico\">\n",
      "     <a href=\"https://creativecommons.org/licenses/by-nc-sa/4.0/\">\n",
      "      <img alt=\"Creative Commons „Namensnennung – nicht kommerziell – Weitergabe unter gleichen Bedingungen“\" height=\"31\" loading=\"lazy\" src=\"/its-infowiki/resources/assets/licenses/cc-by-nc-sa.png\" width=\"88\"/>\n",
      "     </a>\n",
      "    </li>\n",
      "    <li id=\"footer-poweredbyico\">\n",
      "     <a href=\"https://www.mediawiki.org/\">\n",
      "      <img alt=\"Powered by MediaWiki\" height=\"31\" loading=\"lazy\" src=\"/its-infowiki/resources/assets/poweredby_mediawiki_88x31.png\" srcset=\"/its-infowiki/resources/assets/poweredby_mediawiki_132x47.png 1.5x, /its-infowiki/resources/assets/poweredby_mediawiki_176x62.png 2x\" width=\"88\"/>\n",
      "     </a>\n",
      "    </li>\n",
      "   </ul>\n",
      "  </footer>\n",
      "  <script>\n",
      "   (RLQ=window.RLQ||[]).push(function(){mw.config.set({\"wgPageParseReport\":{\"limitreport\":{\"cputime\":\"0.022\",\"walltime\":\"0.025\",\"ppvisitednodes\":{\"value\":20,\"limit\":1000000},\"postexpandincludesize\":{\"value\":371,\"limit\":2097152},\"templateargumentsize\":{\"value\":111,\"limit\":2097152},\"expansiondepth\":{\"value\":4,\"limit\":100},\"expensivefunctioncount\":{\"value\":0,\"limit\":100},\"unstrip-depth\":{\"value\":0,\"limit\":20},\"unstrip-size\":{\"value\":0,\"limit\":5000000},\"timingprofile\":[\"100.00%    8.429      1 Vorlage:Kasten\",\"100.00%    8.429      1 -total\"]},\"cachereport\":{\"timestamp\":\"20231011221206\",\"ttl\":86400,\"transientcontent\":false}}});mw.config.set({\"wgBackendResponseTime\":92});});\n",
      "  </script>\n",
      " </body>\n",
      "</html>\n"
     ]
    },
    {
     "ename": "NameError",
     "evalue": "name 'svaed' is not defined",
     "output_type": "error",
     "traceback": [
      "\u001b[0;31m---------------------------------------------------------------------------\u001b[0m",
      "\u001b[0;31mNameError\u001b[0m                                 Traceback (most recent call last)",
      "Cell \u001b[0;32mIn[3], line 5\u001b[0m\n\u001b[1;32m      2\u001b[0m soup \u001b[38;5;241m=\u001b[39m bs(r\u001b[38;5;241m.\u001b[39mcontent)\n\u001b[1;32m      3\u001b[0m \u001b[38;5;28mprint\u001b[39m(soup\u001b[38;5;241m.\u001b[39mprettify())\n\u001b[0;32m----> 5\u001b[0m svaed\n",
      "\u001b[0;31mNameError\u001b[0m: name 'svaed' is not defined"
     ]
    }
   ],
   "source": [
    "r = requests.get(\"https://its-infowiki.dhbw-ravensburg.de/its-infowiki/index.php/Infoseite_f%C3%BCr_Studenten_der_DHBW_Ravensburg\" , verify = False)\n",
    "soup = bs(r.content)\n",
    "print(soup.prettify())\n",
    "\n",
    "svaed"
   ]
  },
  {
   "cell_type": "markdown",
   "metadata": {},
   "source": [
    "## Ueberschriften herausfinden"
   ]
  },
  {
   "cell_type": "code",
   "execution_count": 4,
   "metadata": {
    "scrolled": true
   },
   "outputs": [
    {
     "data": {
      "text/plain": [
       "[<table class=\"wikitable\">\n",
       " <caption>\n",
       " </caption>\n",
       " <tbody><tr>\n",
       " <th>Benutzerverwaltung\n",
       " </th>\n",
       " <th>\n",
       " </th></tr>\n",
       " <tr>\n",
       " <td><a href=\"/its-infowiki/index.php/Hochschulkonto_Ausbildung\" title=\"Hochschulkonto Ausbildung\">Hochschulkonto Ausbildung</a>\n",
       " </td>\n",
       " <td>Zugangsdaten, die benötigt werden, um die IT-Dienste der DHBW für die Ausbildung zu nutzen\n",
       " </td></tr>\n",
       " <tr>\n",
       " <th>Netzwerk\n",
       " </th>\n",
       " <th>\n",
       " </th></tr>\n",
       " <tr>\n",
       " <td><a href=\"/its-infowiki/index.php/Eduroam\" title=\"Eduroam\">eduroam</a>\n",
       " </td>\n",
       " <td>Freier WLAN-Zugang weltweit bei wissenschaftlichen Einrichtungen\n",
       " </td></tr>\n",
       " <tr>\n",
       " <td><a href=\"/its-infowiki/index.php/WLAN\" title=\"WLAN\">WLAN</a>\n",
       " </td>\n",
       " <td>Zugang über das WLAN (Funknetzwerk) der Hochschule ins Internet\n",
       " </td></tr>\n",
       " <tr>\n",
       " <th>Service\n",
       " </th>\n",
       " <th>\n",
       " </th></tr>\n",
       " <tr>\n",
       " <td><a href=\"/its-infowiki/index.php/Ticketsystem\" title=\"Ticketsystem\">Ticketsystem Zammad</a>\n",
       " </td>\n",
       " <td>Verwaltung von Anfragen und Vorgängen, z.B. Fehlerbearbeitung\n",
       " </td></tr>\n",
       " <tr>\n",
       " <td><a class=\"mw-redirect\" href=\"/its-infowiki/index.php/IT-Notfall_Hotline\" title=\"IT-Notfall Hotline\">IT-Notfall Hotline</a>\n",
       " </td>\n",
       " <td>Bei dringenden IT-Störungen, falls der IT-Hausverantwortliche nicht erreicht werden kann\n",
       " </td></tr>\n",
       " <tr>\n",
       " <th>Zusammenarbeit\n",
       " </th>\n",
       " <th>\n",
       " </th></tr>\n",
       " <tr>\n",
       " <td><a href=\"/its-infowiki/index.php/Shared_Folder\" title=\"Shared Folder\">Gruppenlaufwerke</a>\n",
       " </td>\n",
       " <td>Gemeinsames Netzwerklaufwerk einer Benutzergruppe\n",
       " </td></tr>\n",
       " <tr>\n",
       " <th>Räume und Ausstattung\n",
       " </th>\n",
       " <th>\n",
       " </th></tr>\n",
       " <tr>\n",
       " <td><a href=\"/its-infowiki/index.php/R%C3%A4ume_Campus_Ravensburg\" title=\"Räume Campus Ravensburg\">Räume Campus Ravensburg</a>\n",
       " </td>\n",
       " <td>Informationen und Öffnungszeiten zu den Räumen am Campus in Ravensburg\n",
       " </td></tr>\n",
       " <tr>\n",
       " <td><a href=\"/its-infowiki/index.php/R%C3%A4ume_Campus_Friedrichshafen\" title=\"Räume Campus Friedrichshafen\">Räume Campus Friedrichshafen</a>\n",
       " </td>\n",
       " <td>Informationen und Öffnungszeiten zu den Räumen am Campus in Friedrichshafen\n",
       " </td></tr>\n",
       " <tr>\n",
       " <th>IT-Dienste für das Studium\n",
       " </th>\n",
       " <th>\n",
       " </th></tr>\n",
       " <tr>\n",
       " <td><a href=\"/its-infowiki/index.php/DHBW_Account\" title=\"DHBW Account\">DHBW Account</a>\n",
       " </td>\n",
       " <td>Benutzer und Kennwort für IT-Dienste\n",
       " </td></tr>\n",
       " <tr>\n",
       " <td><a href=\"/its-infowiki/index.php/WLAN\" title=\"WLAN\">WLAN</a>\n",
       " </td>\n",
       " <td>Drahtloser Zugang ins Internet\n",
       " </td></tr>\n",
       " <tr>\n",
       " <td><a href=\"/its-infowiki/index.php/Outlook_Web_App\" title=\"Outlook Web App\">DHBW E-Mail-Postfach</a>\n",
       " </td>\n",
       " <td>Verwaltung von E-Mails und Terminen\n",
       " </td></tr>\n",
       " <tr>\n",
       " <td><a href=\"/its-infowiki/index.php/Kopieren,_Drucken,_Scannen\" title=\"Kopieren, Drucken, Scannen\">Kopieren, Drucken, Scannen</a>\n",
       " </td>\n",
       " <td>Kopieren, Drucken und Scannen auf dem DHBW Campus\n",
       " </td></tr>\n",
       " <tr>\n",
       " <td><a href=\"/its-infowiki/index.php/Laufwerke\" title=\"Laufwerke\">Laufwerke</a>\n",
       " </td>\n",
       " <td>Speicherkapazitäten am Campus\n",
       " </td></tr>\n",
       " <tr>\n",
       " <td><a href=\"/its-infowiki/index.php/DUALIS\" title=\"DUALIS\">DUALIS</a>\n",
       " </td>\n",
       " <td>Zugang zu Prüfungsleistungen\n",
       " </td></tr>\n",
       " <tr>\n",
       " <td><a href=\"/its-infowiki/index.php/VPN-Zugang_Campus_FN\" title=\"VPN-Zugang Campus FN\">VPN-Zugang Campus FN</a>\n",
       " </td>\n",
       " <td>VPN-Zugang für Studierende Technik\n",
       " </td></tr>\n",
       " <tr>\n",
       " <td><a href=\"/its-infowiki/index.php/Passwort_Selfservice\" title=\"Passwort Selfservice\">Passwort Self-Service</a>\n",
       " </td>\n",
       " <td>Eigenes Zugriffspasswort ändern\n",
       " </td></tr>\n",
       " <tr>\n",
       " <td><a href=\"/its-infowiki/index.php/IBM_SPSS_Statistics_%E2%80%93_Nutzung_auf_privatem_Client_(RV)\" title=\"IBM SPSS Statistics – Nutzung auf privatem Client (RV)\">IBM SPSS Statistics über VPN</a>\n",
       " </td>\n",
       " <td>Nutzung von IBM SPSS Statistics über VPN auf einem privaten Client (nur Studenten aus RV)\n",
       " </td></tr>\n",
       " <tr>\n",
       " <td><a href=\"/its-infowiki/index.php/MAXQDA_%E2%80%93_Nutzung_auf_privatem_Client_(RV)\" title=\"MAXQDA – Nutzung auf privatem Client (RV)\">MAXQDA über VPN</a>\n",
       " </td>\n",
       " <td>Nutzung von MAXQDA über VPN auf einem privaten Client (nur Studenten aus RV)\n",
       " </td></tr>\n",
       " <tr>\n",
       " <td><a href=\"/its-infowiki/index.php/Shibboleth-Zugang\" title=\"Shibboleth-Zugang\">Shibboleth-Zugang</a>\n",
       " </td>\n",
       " <td>Single-Sign-On für diverse Onlineangebote\n",
       " </td></tr>\n",
       " <tr>\n",
       " <th>Plattformen\n",
       " </th>\n",
       " <th>\n",
       " </th></tr>\n",
       " <tr>\n",
       " <td><a href=\"/its-infowiki/index.php/Moodle\" title=\"Moodle\">Moodle</a>\n",
       " </td>\n",
       " <td>E-Learning-Plattform\n",
       " </td></tr>\n",
       " <tr>\n",
       " <td><a href=\"/its-infowiki/index.php/Adobe_Connect\" title=\"Adobe Connect\">Adobe Connect</a>\n",
       " </td>\n",
       " <td>Webkonferenz-System\n",
       " </td></tr>\n",
       " <tr>\n",
       " <td><a href=\"/its-infowiki/index.php/Gigamove\" title=\"Gigamove\">Gigamove</a>\n",
       " </td>\n",
       " <td>Dateiaustausch bis 100 GB\n",
       " </td></tr>\n",
       " <tr>\n",
       " <td><a href=\"/its-infowiki/index.php/BwSync%26Share\" title=\"BwSync&amp;Share\">bwSync&amp;Share</a>\n",
       " </td>\n",
       " <td>Cloud-Speicher bis 25 GB\n",
       " </td></tr>\n",
       " <tr>\n",
       " <td><a href=\"/its-infowiki/index.php/BigBlueButton\" title=\"BigBlueButton\">BigBlueButton</a>\n",
       " </td>\n",
       " <td>Videokonferenz-System\n",
       " </td></tr>\n",
       " <tr>\n",
       " <td><a href=\"/its-infowiki/index.php/Zoom\" title=\"Zoom\">Zoom</a>\n",
       " </td>\n",
       " <td>Videokonferenz-System\n",
       " </td></tr>\n",
       " <tr>\n",
       " <th>Softwareangebote\n",
       " </th>\n",
       " <th>\n",
       " </th></tr>\n",
       " <tr>\n",
       " <td><a href=\"/its-infowiki/index.php/Microsoft_Office_365\" title=\"Microsoft Office 365\">MS Office 365 ProPlus</a>\n",
       " </td>\n",
       " <td>Office Suite zur privaten Nutzung\n",
       " </td></tr>\n",
       " <tr>\n",
       " <td><a href=\"/its-infowiki/index.php/Matlab\" title=\"Matlab\">Matlab</a>\n",
       " </td>\n",
       " <td>Mathematische Problemlösung und Datenvisualisierung\n",
       " </td></tr>\n",
       " <tr>\n",
       " <td><a href=\"/its-infowiki/index.php/Software_f%C3%BCr_Maschinenbau\" title=\"Software für Maschinenbau\">Software für Maschinenbau</a>\n",
       " </td>\n",
       " <td>CAD / CAM / CAE Programme\n",
       " </td></tr>\n",
       " </tbody></table>]"
      ]
     },
     "execution_count": 4,
     "metadata": {},
     "output_type": "execute_result"
    }
   ],
   "source": [
    "table_overall_soup = soup.find_all(\"table\")\n",
    "table_overall_soup"
   ]
  },
  {
   "cell_type": "markdown",
   "metadata": {},
   "source": [
    "## Schueler Header herausfinden\n",
    "\n",
    "\n",
    "\n"
   ]
  },
  {
   "cell_type": "markdown",
   "metadata": {},
   "source": [
    "# Headers"
   ]
  },
  {
   "cell_type": "code",
   "execution_count": 42,
   "metadata": {},
   "outputs": [
    {
     "data": {
      "text/plain": [
       "['Hochschulkonto Ausbildung',\n",
       " 'eduroam',\n",
       " 'WLAN',\n",
       " 'Ticketsystem Zammad',\n",
       " 'IT-Notfall Hotline',\n",
       " 'Gruppenlaufwerke',\n",
       " 'Räume Campus Ravensburg',\n",
       " 'Räume Campus Friedrichshafen',\n",
       " 'DHBW Account',\n",
       " 'WLAN',\n",
       " 'DHBW E-Mail-Postfach',\n",
       " 'Kopieren, Drucken, Scannen',\n",
       " 'Laufwerke',\n",
       " 'DUALIS',\n",
       " 'VPN-Zugang Campus FN',\n",
       " 'Passwort Self-Service',\n",
       " 'IBM SPSS Statistics über VPN',\n",
       " 'MAXQDA über VPN',\n",
       " 'Shibboleth-Zugang',\n",
       " 'Moodle',\n",
       " 'Adobe Connect',\n",
       " 'Gigamove',\n",
       " 'bwSync&Share',\n",
       " 'BigBlueButton',\n",
       " 'Zoom',\n",
       " 'MS Office 365 ProPlus',\n",
       " 'Matlab',\n",
       " 'Software für Maschinenbau']"
      ]
     },
     "execution_count": 42,
     "metadata": {},
     "output_type": "execute_result"
    }
   ],
   "source": [
    "soup_table_content = soup.select (\"table td a\")\n",
    "list_of_student_table_entries = []\n",
    "for entry in soup_table_content:\n",
    "    list_of_student_table_entries.append(entry.string)\n",
    "    \n",
    "list_of_student_table_entries"
   ]
  },
  {
   "cell_type": "code",
   "execution_count": null,
   "metadata": {},
   "outputs": [],
   "source": []
  },
  {
   "cell_type": "markdown",
   "metadata": {},
   "source": [
    "# Links"
   ]
  },
  {
   "cell_type": "code",
   "execution_count": 69,
   "metadata": {
    "scrolled": true
   },
   "outputs": [
    {
     "data": {
      "text/plain": [
       "['https://its-infowiki.dhbw-ravensburg.de/its-infowiki/index.php/Hochschulkonto_Ausbildung',\n",
       " 'https://its-infowiki.dhbw-ravensburg.de/its-infowiki/index.php/Eduroam',\n",
       " 'https://its-infowiki.dhbw-ravensburg.de/its-infowiki/index.php/WLAN',\n",
       " 'https://its-infowiki.dhbw-ravensburg.de/its-infowiki/index.php/Ticketsystem',\n",
       " 'https://its-infowiki.dhbw-ravensburg.de/its-infowiki/index.php/IT-Notfall_Hotline',\n",
       " 'https://its-infowiki.dhbw-ravensburg.de/its-infowiki/index.php/Shared_Folder',\n",
       " 'https://its-infowiki.dhbw-ravensburg.de/its-infowiki/index.php/R%C3%A4ume_Campus_Ravensburg',\n",
       " 'https://its-infowiki.dhbw-ravensburg.de/its-infowiki/index.php/R%C3%A4ume_Campus_Friedrichshafen',\n",
       " 'https://its-infowiki.dhbw-ravensburg.de/its-infowiki/index.php/DHBW_Account',\n",
       " 'https://its-infowiki.dhbw-ravensburg.de/its-infowiki/index.php/WLAN',\n",
       " 'https://its-infowiki.dhbw-ravensburg.de/its-infowiki/index.php/Outlook_Web_App',\n",
       " 'https://its-infowiki.dhbw-ravensburg.de/its-infowiki/index.php/Kopieren,_Drucken,_Scannen',\n",
       " 'https://its-infowiki.dhbw-ravensburg.de/its-infowiki/index.php/Laufwerke',\n",
       " 'https://its-infowiki.dhbw-ravensburg.de/its-infowiki/index.php/DUALIS',\n",
       " 'https://its-infowiki.dhbw-ravensburg.de/its-infowiki/index.php/VPN-Zugang_Campus_FN',\n",
       " 'https://its-infowiki.dhbw-ravensburg.de/its-infowiki/index.php/Passwort_Selfservice',\n",
       " 'https://its-infowiki.dhbw-ravensburg.de/its-infowiki/index.php/IBM_SPSS_Statistics_%E2%80%93_Nutzung_auf_privatem_Client_(RV)',\n",
       " 'https://its-infowiki.dhbw-ravensburg.de/its-infowiki/index.php/MAXQDA_%E2%80%93_Nutzung_auf_privatem_Client_(RV)',\n",
       " 'https://its-infowiki.dhbw-ravensburg.de/its-infowiki/index.php/Shibboleth-Zugang',\n",
       " 'https://its-infowiki.dhbw-ravensburg.de/its-infowiki/index.php/Moodle',\n",
       " 'https://its-infowiki.dhbw-ravensburg.de/its-infowiki/index.php/Adobe_Connect',\n",
       " 'https://its-infowiki.dhbw-ravensburg.de/its-infowiki/index.php/Gigamove',\n",
       " 'https://its-infowiki.dhbw-ravensburg.de/its-infowiki/index.php/BwSync%26Share',\n",
       " 'https://its-infowiki.dhbw-ravensburg.de/its-infowiki/index.php/BigBlueButton',\n",
       " 'https://its-infowiki.dhbw-ravensburg.de/its-infowiki/index.php/Zoom',\n",
       " 'https://its-infowiki.dhbw-ravensburg.de/its-infowiki/index.php/Microsoft_Office_365',\n",
       " 'https://its-infowiki.dhbw-ravensburg.de/its-infowiki/index.php/Matlab',\n",
       " 'https://its-infowiki.dhbw-ravensburg.de/its-infowiki/index.php/Software_f%C3%BCr_Maschinenbau']"
      ]
     },
     "execution_count": 69,
     "metadata": {},
     "output_type": "execute_result"
    }
   ],
   "source": [
    "soup_table_content = soup.select (\"table td a\")\n",
    "list_of_studend_table_links = []\n",
    "for entry in soup_table_content:\n",
    "    list_of_studend_table_links.append(\"https://its-infowiki.dhbw-ravensburg.de\" + entry.get(\"href\"))\n",
    "    \n",
    "list_of_studend_table_links"
   ]
  },
  {
   "cell_type": "markdown",
   "metadata": {},
   "source": [
    "##Make the Content"
   ]
  },
  {
   "cell_type": "code",
   "execution_count": 169,
   "metadata": {},
   "outputs": [
    {
     "name": "stderr",
     "output_type": "stream",
     "text": [
      "/home/anton/Apps/miniconda3/envs/envcb_one/lib/python3.11/site-packages/urllib3/connectionpool.py:1043: InsecureRequestWarning: Unverified HTTPS request is being made to host 'its-infowiki.dhbw-ravensburg.de'. Adding certificate verification is strongly advised. See: https://urllib3.readthedocs.io/en/1.26.x/advanced-usage.html#ssl-warnings\n",
      "  warnings.warn(\n"
     ]
    },
    {
     "name": "stdout",
     "output_type": "stream",
     "text": [
      "https://its-infowiki.dhbw-ravensburg.de/its-infowiki/index.php/Hochschulkonto_Ausbildung geklappt\n"
     ]
    },
    {
     "name": "stderr",
     "output_type": "stream",
     "text": [
      "/home/anton/Apps/miniconda3/envs/envcb_one/lib/python3.11/site-packages/urllib3/connectionpool.py:1043: InsecureRequestWarning: Unverified HTTPS request is being made to host 'its-infowiki.dhbw-ravensburg.de'. Adding certificate verification is strongly advised. See: https://urllib3.readthedocs.io/en/1.26.x/advanced-usage.html#ssl-warnings\n",
      "  warnings.warn(\n"
     ]
    },
    {
     "name": "stdout",
     "output_type": "stream",
     "text": [
      "https://its-infowiki.dhbw-ravensburg.de/its-infowiki/index.php/Eduroam geklappt\n"
     ]
    },
    {
     "name": "stderr",
     "output_type": "stream",
     "text": [
      "/home/anton/Apps/miniconda3/envs/envcb_one/lib/python3.11/site-packages/urllib3/connectionpool.py:1043: InsecureRequestWarning: Unverified HTTPS request is being made to host 'its-infowiki.dhbw-ravensburg.de'. Adding certificate verification is strongly advised. See: https://urllib3.readthedocs.io/en/1.26.x/advanced-usage.html#ssl-warnings\n",
      "  warnings.warn(\n"
     ]
    },
    {
     "name": "stdout",
     "output_type": "stream",
     "text": [
      "https://its-infowiki.dhbw-ravensburg.de/its-infowiki/index.php/WLAN geklappt\n"
     ]
    },
    {
     "name": "stderr",
     "output_type": "stream",
     "text": [
      "/home/anton/Apps/miniconda3/envs/envcb_one/lib/python3.11/site-packages/urllib3/connectionpool.py:1043: InsecureRequestWarning: Unverified HTTPS request is being made to host 'its-infowiki.dhbw-ravensburg.de'. Adding certificate verification is strongly advised. See: https://urllib3.readthedocs.io/en/1.26.x/advanced-usage.html#ssl-warnings\n",
      "  warnings.warn(\n"
     ]
    },
    {
     "name": "stdout",
     "output_type": "stream",
     "text": [
      "https://its-infowiki.dhbw-ravensburg.de/its-infowiki/index.php/Ticketsystem geklappt\n"
     ]
    },
    {
     "name": "stderr",
     "output_type": "stream",
     "text": [
      "/home/anton/Apps/miniconda3/envs/envcb_one/lib/python3.11/site-packages/urllib3/connectionpool.py:1043: InsecureRequestWarning: Unverified HTTPS request is being made to host 'its-infowiki.dhbw-ravensburg.de'. Adding certificate verification is strongly advised. See: https://urllib3.readthedocs.io/en/1.26.x/advanced-usage.html#ssl-warnings\n",
      "  warnings.warn(\n"
     ]
    },
    {
     "name": "stdout",
     "output_type": "stream",
     "text": [
      "https://its-infowiki.dhbw-ravensburg.de/its-infowiki/index.php/IT-Notfall_Hotline geklappt\n"
     ]
    },
    {
     "name": "stderr",
     "output_type": "stream",
     "text": [
      "/home/anton/Apps/miniconda3/envs/envcb_one/lib/python3.11/site-packages/urllib3/connectionpool.py:1043: InsecureRequestWarning: Unverified HTTPS request is being made to host 'its-infowiki.dhbw-ravensburg.de'. Adding certificate verification is strongly advised. See: https://urllib3.readthedocs.io/en/1.26.x/advanced-usage.html#ssl-warnings\n",
      "  warnings.warn(\n"
     ]
    },
    {
     "name": "stdout",
     "output_type": "stream",
     "text": [
      "https://its-infowiki.dhbw-ravensburg.de/its-infowiki/index.php/Shared_Folder geklappt\n"
     ]
    },
    {
     "name": "stderr",
     "output_type": "stream",
     "text": [
      "/home/anton/Apps/miniconda3/envs/envcb_one/lib/python3.11/site-packages/urllib3/connectionpool.py:1043: InsecureRequestWarning: Unverified HTTPS request is being made to host 'its-infowiki.dhbw-ravensburg.de'. Adding certificate verification is strongly advised. See: https://urllib3.readthedocs.io/en/1.26.x/advanced-usage.html#ssl-warnings\n",
      "  warnings.warn(\n"
     ]
    },
    {
     "name": "stdout",
     "output_type": "stream",
     "text": [
      "https://its-infowiki.dhbw-ravensburg.de/its-infowiki/index.php/R%C3%A4ume_Campus_Ravensburg geklappt\n"
     ]
    },
    {
     "name": "stderr",
     "output_type": "stream",
     "text": [
      "/home/anton/Apps/miniconda3/envs/envcb_one/lib/python3.11/site-packages/urllib3/connectionpool.py:1043: InsecureRequestWarning: Unverified HTTPS request is being made to host 'its-infowiki.dhbw-ravensburg.de'. Adding certificate verification is strongly advised. See: https://urllib3.readthedocs.io/en/1.26.x/advanced-usage.html#ssl-warnings\n",
      "  warnings.warn(\n"
     ]
    },
    {
     "name": "stdout",
     "output_type": "stream",
     "text": [
      "https://its-infowiki.dhbw-ravensburg.de/its-infowiki/index.php/R%C3%A4ume_Campus_Friedrichshafen geklappt\n"
     ]
    },
    {
     "name": "stderr",
     "output_type": "stream",
     "text": [
      "/home/anton/Apps/miniconda3/envs/envcb_one/lib/python3.11/site-packages/urllib3/connectionpool.py:1043: InsecureRequestWarning: Unverified HTTPS request is being made to host 'its-infowiki.dhbw-ravensburg.de'. Adding certificate verification is strongly advised. See: https://urllib3.readthedocs.io/en/1.26.x/advanced-usage.html#ssl-warnings\n",
      "  warnings.warn(\n"
     ]
    },
    {
     "name": "stdout",
     "output_type": "stream",
     "text": [
      "https://its-infowiki.dhbw-ravensburg.de/its-infowiki/index.php/DHBW_Account geklappt\n"
     ]
    },
    {
     "name": "stderr",
     "output_type": "stream",
     "text": [
      "/home/anton/Apps/miniconda3/envs/envcb_one/lib/python3.11/site-packages/urllib3/connectionpool.py:1043: InsecureRequestWarning: Unverified HTTPS request is being made to host 'its-infowiki.dhbw-ravensburg.de'. Adding certificate verification is strongly advised. See: https://urllib3.readthedocs.io/en/1.26.x/advanced-usage.html#ssl-warnings\n",
      "  warnings.warn(\n"
     ]
    },
    {
     "name": "stdout",
     "output_type": "stream",
     "text": [
      "https://its-infowiki.dhbw-ravensburg.de/its-infowiki/index.php/WLAN geklappt\n"
     ]
    },
    {
     "name": "stderr",
     "output_type": "stream",
     "text": [
      "/home/anton/Apps/miniconda3/envs/envcb_one/lib/python3.11/site-packages/urllib3/connectionpool.py:1043: InsecureRequestWarning: Unverified HTTPS request is being made to host 'its-infowiki.dhbw-ravensburg.de'. Adding certificate verification is strongly advised. See: https://urllib3.readthedocs.io/en/1.26.x/advanced-usage.html#ssl-warnings\n",
      "  warnings.warn(\n"
     ]
    },
    {
     "name": "stdout",
     "output_type": "stream",
     "text": [
      "https://its-infowiki.dhbw-ravensburg.de/its-infowiki/index.php/Outlook_Web_App geklappt\n"
     ]
    },
    {
     "name": "stderr",
     "output_type": "stream",
     "text": [
      "/home/anton/Apps/miniconda3/envs/envcb_one/lib/python3.11/site-packages/urllib3/connectionpool.py:1043: InsecureRequestWarning: Unverified HTTPS request is being made to host 'its-infowiki.dhbw-ravensburg.de'. Adding certificate verification is strongly advised. See: https://urllib3.readthedocs.io/en/1.26.x/advanced-usage.html#ssl-warnings\n",
      "  warnings.warn(\n"
     ]
    },
    {
     "name": "stdout",
     "output_type": "stream",
     "text": [
      "https://its-infowiki.dhbw-ravensburg.de/its-infowiki/index.php/Kopieren,_Drucken,_Scannen geklappt\n"
     ]
    },
    {
     "name": "stderr",
     "output_type": "stream",
     "text": [
      "/home/anton/Apps/miniconda3/envs/envcb_one/lib/python3.11/site-packages/urllib3/connectionpool.py:1043: InsecureRequestWarning: Unverified HTTPS request is being made to host 'its-infowiki.dhbw-ravensburg.de'. Adding certificate verification is strongly advised. See: https://urllib3.readthedocs.io/en/1.26.x/advanced-usage.html#ssl-warnings\n",
      "  warnings.warn(\n"
     ]
    },
    {
     "name": "stdout",
     "output_type": "stream",
     "text": [
      "https://its-infowiki.dhbw-ravensburg.de/its-infowiki/index.php/Laufwerke geklappt\n"
     ]
    },
    {
     "name": "stderr",
     "output_type": "stream",
     "text": [
      "/home/anton/Apps/miniconda3/envs/envcb_one/lib/python3.11/site-packages/urllib3/connectionpool.py:1043: InsecureRequestWarning: Unverified HTTPS request is being made to host 'its-infowiki.dhbw-ravensburg.de'. Adding certificate verification is strongly advised. See: https://urllib3.readthedocs.io/en/1.26.x/advanced-usage.html#ssl-warnings\n",
      "  warnings.warn(\n"
     ]
    },
    {
     "name": "stdout",
     "output_type": "stream",
     "text": [
      "https://its-infowiki.dhbw-ravensburg.de/its-infowiki/index.php/DUALIS geklappt\n"
     ]
    },
    {
     "name": "stderr",
     "output_type": "stream",
     "text": [
      "/home/anton/Apps/miniconda3/envs/envcb_one/lib/python3.11/site-packages/urllib3/connectionpool.py:1043: InsecureRequestWarning: Unverified HTTPS request is being made to host 'its-infowiki.dhbw-ravensburg.de'. Adding certificate verification is strongly advised. See: https://urllib3.readthedocs.io/en/1.26.x/advanced-usage.html#ssl-warnings\n",
      "  warnings.warn(\n"
     ]
    },
    {
     "name": "stdout",
     "output_type": "stream",
     "text": [
      "https://its-infowiki.dhbw-ravensburg.de/its-infowiki/index.php/VPN-Zugang_Campus_FN geklappt\n"
     ]
    },
    {
     "name": "stderr",
     "output_type": "stream",
     "text": [
      "/home/anton/Apps/miniconda3/envs/envcb_one/lib/python3.11/site-packages/urllib3/connectionpool.py:1043: InsecureRequestWarning: Unverified HTTPS request is being made to host 'its-infowiki.dhbw-ravensburg.de'. Adding certificate verification is strongly advised. See: https://urllib3.readthedocs.io/en/1.26.x/advanced-usage.html#ssl-warnings\n",
      "  warnings.warn(\n"
     ]
    },
    {
     "name": "stdout",
     "output_type": "stream",
     "text": [
      "https://its-infowiki.dhbw-ravensburg.de/its-infowiki/index.php/Passwort_Selfservice geklappt\n"
     ]
    },
    {
     "name": "stderr",
     "output_type": "stream",
     "text": [
      "/home/anton/Apps/miniconda3/envs/envcb_one/lib/python3.11/site-packages/urllib3/connectionpool.py:1043: InsecureRequestWarning: Unverified HTTPS request is being made to host 'its-infowiki.dhbw-ravensburg.de'. Adding certificate verification is strongly advised. See: https://urllib3.readthedocs.io/en/1.26.x/advanced-usage.html#ssl-warnings\n",
      "  warnings.warn(\n"
     ]
    },
    {
     "name": "stdout",
     "output_type": "stream",
     "text": [
      "https://its-infowiki.dhbw-ravensburg.de/its-infowiki/index.php/IBM_SPSS_Statistics_%E2%80%93_Nutzung_auf_privatem_Client_(RV) geklappt\n"
     ]
    },
    {
     "name": "stderr",
     "output_type": "stream",
     "text": [
      "/home/anton/Apps/miniconda3/envs/envcb_one/lib/python3.11/site-packages/urllib3/connectionpool.py:1043: InsecureRequestWarning: Unverified HTTPS request is being made to host 'its-infowiki.dhbw-ravensburg.de'. Adding certificate verification is strongly advised. See: https://urllib3.readthedocs.io/en/1.26.x/advanced-usage.html#ssl-warnings\n",
      "  warnings.warn(\n"
     ]
    },
    {
     "name": "stdout",
     "output_type": "stream",
     "text": [
      "https://its-infowiki.dhbw-ravensburg.de/its-infowiki/index.php/MAXQDA_%E2%80%93_Nutzung_auf_privatem_Client_(RV) geklappt\n"
     ]
    },
    {
     "name": "stderr",
     "output_type": "stream",
     "text": [
      "/home/anton/Apps/miniconda3/envs/envcb_one/lib/python3.11/site-packages/urllib3/connectionpool.py:1043: InsecureRequestWarning: Unverified HTTPS request is being made to host 'its-infowiki.dhbw-ravensburg.de'. Adding certificate verification is strongly advised. See: https://urllib3.readthedocs.io/en/1.26.x/advanced-usage.html#ssl-warnings\n",
      "  warnings.warn(\n"
     ]
    },
    {
     "name": "stdout",
     "output_type": "stream",
     "text": [
      "https://its-infowiki.dhbw-ravensburg.de/its-infowiki/index.php/Shibboleth-Zugang geklappt\n"
     ]
    },
    {
     "name": "stderr",
     "output_type": "stream",
     "text": [
      "/home/anton/Apps/miniconda3/envs/envcb_one/lib/python3.11/site-packages/urllib3/connectionpool.py:1043: InsecureRequestWarning: Unverified HTTPS request is being made to host 'its-infowiki.dhbw-ravensburg.de'. Adding certificate verification is strongly advised. See: https://urllib3.readthedocs.io/en/1.26.x/advanced-usage.html#ssl-warnings\n",
      "  warnings.warn(\n"
     ]
    },
    {
     "name": "stdout",
     "output_type": "stream",
     "text": [
      "https://its-infowiki.dhbw-ravensburg.de/its-infowiki/index.php/Moodle geklappt\n"
     ]
    },
    {
     "name": "stderr",
     "output_type": "stream",
     "text": [
      "/home/anton/Apps/miniconda3/envs/envcb_one/lib/python3.11/site-packages/urllib3/connectionpool.py:1043: InsecureRequestWarning: Unverified HTTPS request is being made to host 'its-infowiki.dhbw-ravensburg.de'. Adding certificate verification is strongly advised. See: https://urllib3.readthedocs.io/en/1.26.x/advanced-usage.html#ssl-warnings\n",
      "  warnings.warn(\n"
     ]
    },
    {
     "name": "stdout",
     "output_type": "stream",
     "text": [
      "https://its-infowiki.dhbw-ravensburg.de/its-infowiki/index.php/Adobe_Connect geklappt\n"
     ]
    },
    {
     "name": "stderr",
     "output_type": "stream",
     "text": [
      "/home/anton/Apps/miniconda3/envs/envcb_one/lib/python3.11/site-packages/urllib3/connectionpool.py:1043: InsecureRequestWarning: Unverified HTTPS request is being made to host 'its-infowiki.dhbw-ravensburg.de'. Adding certificate verification is strongly advised. See: https://urllib3.readthedocs.io/en/1.26.x/advanced-usage.html#ssl-warnings\n",
      "  warnings.warn(\n"
     ]
    },
    {
     "name": "stdout",
     "output_type": "stream",
     "text": [
      "https://its-infowiki.dhbw-ravensburg.de/its-infowiki/index.php/Gigamove geklappt\n"
     ]
    },
    {
     "name": "stderr",
     "output_type": "stream",
     "text": [
      "/home/anton/Apps/miniconda3/envs/envcb_one/lib/python3.11/site-packages/urllib3/connectionpool.py:1043: InsecureRequestWarning: Unverified HTTPS request is being made to host 'its-infowiki.dhbw-ravensburg.de'. Adding certificate verification is strongly advised. See: https://urllib3.readthedocs.io/en/1.26.x/advanced-usage.html#ssl-warnings\n",
      "  warnings.warn(\n"
     ]
    },
    {
     "name": "stdout",
     "output_type": "stream",
     "text": [
      "https://its-infowiki.dhbw-ravensburg.de/its-infowiki/index.php/BwSync%26Share geklappt\n"
     ]
    },
    {
     "name": "stderr",
     "output_type": "stream",
     "text": [
      "/home/anton/Apps/miniconda3/envs/envcb_one/lib/python3.11/site-packages/urllib3/connectionpool.py:1043: InsecureRequestWarning: Unverified HTTPS request is being made to host 'its-infowiki.dhbw-ravensburg.de'. Adding certificate verification is strongly advised. See: https://urllib3.readthedocs.io/en/1.26.x/advanced-usage.html#ssl-warnings\n",
      "  warnings.warn(\n"
     ]
    },
    {
     "name": "stdout",
     "output_type": "stream",
     "text": [
      "https://its-infowiki.dhbw-ravensburg.de/its-infowiki/index.php/BigBlueButton geklappt\n"
     ]
    },
    {
     "name": "stderr",
     "output_type": "stream",
     "text": [
      "/home/anton/Apps/miniconda3/envs/envcb_one/lib/python3.11/site-packages/urllib3/connectionpool.py:1043: InsecureRequestWarning: Unverified HTTPS request is being made to host 'its-infowiki.dhbw-ravensburg.de'. Adding certificate verification is strongly advised. See: https://urllib3.readthedocs.io/en/1.26.x/advanced-usage.html#ssl-warnings\n",
      "  warnings.warn(\n"
     ]
    },
    {
     "name": "stdout",
     "output_type": "stream",
     "text": [
      "https://its-infowiki.dhbw-ravensburg.de/its-infowiki/index.php/Zoom geklappt\n"
     ]
    },
    {
     "name": "stderr",
     "output_type": "stream",
     "text": [
      "/home/anton/Apps/miniconda3/envs/envcb_one/lib/python3.11/site-packages/urllib3/connectionpool.py:1043: InsecureRequestWarning: Unverified HTTPS request is being made to host 'its-infowiki.dhbw-ravensburg.de'. Adding certificate verification is strongly advised. See: https://urllib3.readthedocs.io/en/1.26.x/advanced-usage.html#ssl-warnings\n",
      "  warnings.warn(\n"
     ]
    },
    {
     "name": "stdout",
     "output_type": "stream",
     "text": [
      "https://its-infowiki.dhbw-ravensburg.de/its-infowiki/index.php/Microsoft_Office_365 geklappt\n"
     ]
    },
    {
     "name": "stderr",
     "output_type": "stream",
     "text": [
      "/home/anton/Apps/miniconda3/envs/envcb_one/lib/python3.11/site-packages/urllib3/connectionpool.py:1043: InsecureRequestWarning: Unverified HTTPS request is being made to host 'its-infowiki.dhbw-ravensburg.de'. Adding certificate verification is strongly advised. See: https://urllib3.readthedocs.io/en/1.26.x/advanced-usage.html#ssl-warnings\n",
      "  warnings.warn(\n"
     ]
    },
    {
     "name": "stdout",
     "output_type": "stream",
     "text": [
      "https://its-infowiki.dhbw-ravensburg.de/its-infowiki/index.php/Matlab geklappt\n",
      "https://its-infowiki.dhbw-ravensburg.de/its-infowiki/index.php/Software_f%C3%BCr_Maschinenbau geklappt\n"
     ]
    },
    {
     "name": "stderr",
     "output_type": "stream",
     "text": [
      "/home/anton/Apps/miniconda3/envs/envcb_one/lib/python3.11/site-packages/urllib3/connectionpool.py:1043: InsecureRequestWarning: Unverified HTTPS request is being made to host 'its-infowiki.dhbw-ravensburg.de'. Adding certificate verification is strongly advised. See: https://urllib3.readthedocs.io/en/1.26.x/advanced-usage.html#ssl-warnings\n",
      "  warnings.warn(\n"
     ]
    },
    {
     "data": {
      "text/plain": [
       "28"
      ]
     },
     "execution_count": 169,
     "metadata": {},
     "output_type": "execute_result"
    }
   ],
   "source": [
    "from bs4 import BeautifulSoup\n",
    "list_of_entries_train_data = []\n",
    "for link in list_of_studend_table_links:\n",
    "\n",
    "    theme_r = requests.get(link, verify = False)\n",
    "\n",
    "    theme_soup = bs(theme_r.content)\n",
    "    print (link + \" geklappt\")\n",
    "    rs_theme = theme_soup.select(\"#mw-content-text\") \n",
    "    cleantext = BeautifulSoup(str(rs_theme[0]), \"lxml\").text\n",
    "    cleantext = cleantext.replace(\"\\n\" , \"\")\n",
    "    list_of_entries_train_data.append(cleantext)\n",
    "    \n",
    "len(list_of_entries_train_data)\n",
    "\n",
    "\n"
   ]
  },
  {
   "cell_type": "code",
   "execution_count": null,
   "metadata": {},
   "outputs": [],
   "source": [
    "##WRITE IN FILE"
   ]
  },
  {
   "cell_type": "code",
   "execution_count": 173,
   "metadata": {},
   "outputs": [],
   "source": [
    "with open('data.txt', 'w') as f:\n",
    "    for n in range(len(list_of_entries_train_data)):\n",
    "        f.write(f\"{list_of_student_table_entries[n]}12345678{list_of_entries_train_data[n]}\\n\\n\\n\\n\")"
   ]
  },
  {
   "cell_type": "code",
   "execution_count": 130,
   "metadata": {
    "scrolled": true
   },
   "outputs": [],
   "source": [
    "rs_theme = theme_soup.select(\"#mw-content-text\") "
   ]
  },
  {
   "cell_type": "code",
   "execution_count": 160,
   "metadata": {},
   "outputs": [
    {
     "data": {
      "text/plain": [
       "'Für IT-Störungen, die den aktuellen Vorlesungsbetrieb verhindern oder wenn das Weiterarbeiten eines Mitarbeiters nicht mehr möglich ist und der IT-Hausverantwortliche nicht erreicht werden kann, wird vom IT.S eine IT-Notfall-Hotline zur Verfügung gestellt.\\nÜber diese IT-Notfall-Rufnummer ist in dringenden Fällen während der Servicezeiten ein IT-Mitarbeiter für den jeweiligen Standort telefonisch erreichbar.\\nIn allen anderen Fällen ist die Störung über eine E-Mail an servicedesk@dhbw-ravensburg.de mit Nennung Ihres Namens, einer Rückrufnummer, den Ort der Störung, das betroffene Gerät und die möglichst genaue Störungsbeschreibung zu melden.\\nDie IT-Notfall-Hotline ist unter der Durchwahl -2222 (von extern: 0751 18999 – 2222) an allen Standorten\\nzu folgenden Servicezeiten erreichbar:\\n\\nMontag bis Donnerstag von 8:00 Uhr bis 12:00 Uhr und 12:30 Uhr bis 15:00 Uhr.\\nFreitags von 8:00 Uhr bis 13:00 Uhr.\\n\\nBitte beachten Sie die Ansprechpartner für unsere Häuser unter:\\n\\nRäume Campus Ravensburg\\nRäume Campus Friedrichshafen\\n\\nDie Mitarbeiter der Notfallhotline sind:\\nCampus Ravensburg\\n\\nBauer, Markus\\nMelzer, Dennis\\nHieke, Patrick\\nWagner, Stefan\\n\\nCampus Friedrichshafen\\n\\nJoos, Herbert\\nPoisel, Michael\\nBastian, Patrick\\nKiesecker, Roland\\n\\nDer Ablauf der Notfall-Rufnummer ist in folgendem Diagramm dargestellt:\\n\\n\\n\\n\\n\\n\\nAbgerufen von „https://its-infowiki.dhbw-ravensburg.de/its-infowiki/index.php?title=IT-Notfall-Hotline&oldid=2453“'"
      ]
     },
     "execution_count": 160,
     "metadata": {},
     "output_type": "execute_result"
    }
   ],
   "source": [
    "# Hier muss wahrscheinlich eine For Schleife Hin aeber da das ResultSet Hier nur ein Entry hat kann man hier Set[0] machen\n",
    "\n",
    "from bs4 import BeautifulSoup\n",
    "cleantext = BeautifulSoup(str(rs_theme[0]), \"lxml\").text\n",
    "cleantext"
   ]
  }
 ],
 "metadata": {
  "kernelspec": {
   "display_name": "Python 3 (ipykernel)",
   "language": "python",
   "name": "python3"
  },
  "language_info": {
   "codemirror_mode": {
    "name": "ipython",
    "version": 3
   },
   "file_extension": ".py",
   "mimetype": "text/x-python",
   "name": "python",
   "nbconvert_exporter": "python",
   "pygments_lexer": "ipython3",
   "version": "3.11.5"
  }
 },
 "nbformat": 4,
 "nbformat_minor": 2
}
