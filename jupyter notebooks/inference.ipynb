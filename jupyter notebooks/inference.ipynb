{
 "cells": [
  {
   "cell_type": "code",
   "execution_count": 1,
   "id": "4090ac28-5703-4ff7-b6ba-5c8b58b473e6",
   "metadata": {},
   "outputs": [
    {
     "name": "stderr",
     "output_type": "stream",
     "text": [
      "/home/jeremy/miniconda3/envs/finetune/lib/python3.11/site-packages/tqdm/auto.py:21: TqdmWarning: IProgress not found. Please update jupyter and ipywidgets. See https://ipywidgets.readthedocs.io/en/stable/user_install.html\n",
      "  from .autonotebook import tqdm as notebook_tqdm\n"
     ]
    },
    {
     "name": "stdout",
     "output_type": "stream",
     "text": [
      "\n",
      "===================================BUG REPORT===================================\n",
      "Welcome to bitsandbytes. For bug reports, please run\n",
      "\n",
      "python -m bitsandbytes\n",
      "\n",
      " and submit this information together with your error trace to: https://github.com/TimDettmers/bitsandbytes/issues\n",
      "================================================================================\n",
      "bin /home/jeremy/miniconda3/envs/finetune/lib/python3.11/site-packages/bitsandbytes/libbitsandbytes_cuda118.so\n",
      "CUDA SETUP: CUDA runtime path found: /home/jeremy/miniconda3/envs/finetune/lib/libcudart.so.11.0\n",
      "CUDA SETUP: Highest compute capability among GPUs detected: 8.6\n",
      "CUDA SETUP: Detected CUDA version 118\n",
      "CUDA SETUP: Loading binary /home/jeremy/miniconda3/envs/finetune/lib/python3.11/site-packages/bitsandbytes/libbitsandbytes_cuda118.so...\n"
     ]
    },
    {
     "name": "stderr",
     "output_type": "stream",
     "text": [
      "/home/jeremy/miniconda3/envs/finetune/lib/python3.11/site-packages/bitsandbytes/cuda_setup/main.py:149: UserWarning: Found duplicate ['libcudart.so', 'libcudart.so.11.0', 'libcudart.so.12.0'] files: {PosixPath('/home/jeremy/miniconda3/envs/finetune/lib/libcudart.so.11.0'), PosixPath('/home/jeremy/miniconda3/envs/finetune/lib/libcudart.so')}.. We'll flip a coin and try one of these, in order to fail forward.\n",
      "Either way, this might cause trouble in the future:\n",
      "If you get `CUDA error: invalid device function` errors, the above might be the cause and the solution is to make sure only one ['libcudart.so', 'libcudart.so.11.0', 'libcudart.so.12.0'] in the paths that we search based on your env.\n",
      "  warn(msg)\n"
     ]
    }
   ],
   "source": [
    "import torch\n",
    "from transformers import AutoModelForCausalLM, AutoTokenizer, set_seed, Trainer, TrainingArguments, BitsAndBytesConfig, \\\n",
    "    DataCollatorForLanguageModeling, Trainer, TrainingArguments"
   ]
  },
  {
   "cell_type": "code",
   "execution_count": 2,
   "id": "8e105c04-dc7d-4369-961b-351f4e6814db",
   "metadata": {},
   "outputs": [],
   "source": [
    "output_merged_dir = \"results/llama2/final\""
   ]
  },
  {
   "cell_type": "code",
   "execution_count": 3,
   "id": "7bcf8015-53e8-496f-8540-d1aacf70aa86",
   "metadata": {},
   "outputs": [],
   "source": [
    "tokenizer = AutoTokenizer.from_pretrained(output_merged_dir, use_fast=True, num_threads=24)"
   ]
  },
  {
   "cell_type": "code",
   "execution_count": 4,
   "id": "7cbcb7d2-d326-458b-a74b-63cbdf79f753",
   "metadata": {},
   "outputs": [
    {
     "name": "stderr",
     "output_type": "stream",
     "text": [
      "Loading checkpoint shards: 100%|█████████████████████████████████████████████████████████████████████████████████████| 2/2 [00:12<00:00,  6.41s/it]\n"
     ]
    }
   ],
   "source": [
    "model = AutoModelForCausalLM.from_pretrained(output_merged_dir, load_in_4bit=True, torch_dtype=torch.bfloat16)\n",
    "model.config.use_cache = True"
   ]
  },
  {
   "cell_type": "code",
   "execution_count": 30,
   "id": "c765a0b9-b66f-458d-8aa7-b1bb609295fc",
   "metadata": {},
   "outputs": [
    {
     "name": "stdout",
     "output_type": "stream",
     "text": [
      "Generated Response:\n",
      "The NVidia T4500 is a very power full GPU. It has 2,880 CUDA cores and 128 Tensor cores.\n"
     ]
    }
   ],
   "source": [
    "# Define your instruction\n",
    "instruction = \"### Instruction: How powerfull is the Nvidia Tesla M40?. It is based on Maxwell\\n### Response:\"\n",
    "\n",
    "# Tokenize the instruction\n",
    "instruction_ids = tokenizer.encode(instruction, return_tensors=\"pt\")\n",
    "\n",
    "# Generate a response based on the instruction\n",
    "with torch.no_grad():\n",
    "    response_ids = model.generate(instruction_ids, max_length=500, num_return_sequences=1, no_repeat_ngram_size=2)\n",
    "\n",
    "# Decode the generated response\n",
    "generated_response = tokenizer.decode(response_ids[0], skip_special_tokens=True)\n",
    "\n",
    "# Extract the response part after '### Response'\n",
    "response = generated_response.split(\"### Response:\")[1].strip().split(\"#\")[0].strip()\n",
    "\n",
    "print(\"Generated Response:\")\n",
    "print(response)"
   ]
  },
  {
   "cell_type": "code",
   "execution_count": null,
   "id": "327f7deb-ee25-4122-844c-9d0bdeb4fb9c",
   "metadata": {},
   "outputs": [],
   "source": []
  },
  {
   "cell_type": "code",
   "execution_count": null,
   "id": "b591365c-9f69-43d7-8295-bc1e4452330f",
   "metadata": {},
   "outputs": [],
   "source": []
  }
 ],
 "metadata": {
  "kernelspec": {
   "display_name": "Python 3 (ipykernel)",
   "language": "python",
   "name": "python3"
  },
  "language_info": {
   "codemirror_mode": {
    "name": "ipython",
    "version": 3
   },
   "file_extension": ".py",
   "mimetype": "text/x-python",
   "name": "python",
   "nbconvert_exporter": "python",
   "pygments_lexer": "ipython3",
   "version": "3.11.4"
  }
 },
 "nbformat": 4,
 "nbformat_minor": 5
}
